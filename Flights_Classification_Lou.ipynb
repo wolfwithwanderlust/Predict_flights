{
 "cells": [
  {
   "cell_type": "code",
   "execution_count": 1,
   "id": "eb3c3302",
   "metadata": {},
   "outputs": [],
   "source": [
    "import pandas as pd\n",
    "from sklearn.preprocessing import OneHotEncoder\n",
    "\n",
    "# Equilibrage \n",
    "from sklearn.utils import resample\n",
    "\n",
    "# Modele\n",
    "from sklearn.pipeline import Pipeline\n",
    "from sklearn.preprocessing import StandardScaler, OneHotEncoder\n",
    "from sklearn.dummy import DummyClassifier\n",
    "from sklearn.ensemble import RandomForestClassifier\n",
    "from sklearn.model_selection import train_test_split\n",
    "from sklearn.compose import ColumnTransformer"
   ]
  },
  {
   "cell_type": "code",
   "execution_count": 2,
   "id": "6d53a365",
   "metadata": {
    "scrolled": false
   },
   "outputs": [],
   "source": [
    "df = pd.read_parquet('flights_data.parquet')"
   ]
  },
  {
   "cell_type": "code",
   "execution_count": 3,
   "id": "8728af09",
   "metadata": {},
   "outputs": [
    {
     "data": {
      "text/plain": [
       "MONTH                  int64\n",
       "DAY_OF_MONTH          object\n",
       "UNIQUE_CARRIER        object\n",
       "FL_NUM                object\n",
       "ORIGIN_CITY_NAME      object\n",
       "ORIGIN_STATE_NM       object\n",
       "DEST_CITY_NAME        object\n",
       "CRS_DEP_TIME         float64\n",
       "DISTANCE             float64\n",
       "ORIGIN_STATE_ABR      object\n",
       "DEST_STATE_ABR        object\n",
       "ORIGIN_AIRPORT_ID     object\n",
       "DEST_AIRPORT_ID       object\n",
       "DEP_TIME_BLK          object\n",
       "ARR_TIME_BLK          object\n",
       "HISTORICAL_DELAY     float64\n",
       "ARR_DELAY            float64\n",
       "dtype: object"
      ]
     },
     "execution_count": 3,
     "metadata": {},
     "output_type": "execute_result"
    }
   ],
   "source": [
    "df.dtypes"
   ]
  },
  {
   "cell_type": "code",
   "execution_count": 4,
   "id": "24b4fd59",
   "metadata": {},
   "outputs": [],
   "source": [
    "index_to_drop = df[df['FL_NUM'] == '582700-1759'].index\n",
    "\n",
    "# Supprimer la ligne\n",
    "df = df.drop(index_to_drop)"
   ]
  },
  {
   "cell_type": "code",
   "execution_count": 5,
   "id": "a2fee336",
   "metadata": {},
   "outputs": [
    {
     "name": "stdout",
     "output_type": "stream",
     "text": [
      "MONTH                  int64\n",
      "DAY_OF_MONTH           int64\n",
      "UNIQUE_CARRIER        object\n",
      "FL_NUM                 int64\n",
      "ORIGIN_CITY_NAME      object\n",
      "ORIGIN_STATE_NM       object\n",
      "DEST_CITY_NAME        object\n",
      "CRS_DEP_TIME         float64\n",
      "DISTANCE             float64\n",
      "ORIGIN_STATE_ABR      object\n",
      "DEST_STATE_ABR        object\n",
      "ORIGIN_AIRPORT_ID      int64\n",
      "DEST_AIRPORT_ID        int64\n",
      "DEP_TIME_BLK          object\n",
      "ARR_TIME_BLK          object\n",
      "HISTORICAL_DELAY     float64\n",
      "ARR_DELAY            float64\n",
      "dtype: object\n"
     ]
    }
   ],
   "source": [
    "# Convertir les colonnes en int\n",
    "df['DAY_OF_MONTH'] = df['DAY_OF_MONTH'].astype(int)\n",
    "df['FL_NUM'] = df['FL_NUM'].astype(int)\n",
    "df['ORIGIN_AIRPORT_ID'] = df['ORIGIN_AIRPORT_ID'].astype(float).astype(int)\n",
    "df['DEST_AIRPORT_ID'] = df['DEST_AIRPORT_ID'].astype(float).astype(int)\n",
    "\n",
    "# Afficher les types de données après conversion\n",
    "print(df.dtypes)"
   ]
  },
  {
   "cell_type": "markdown",
   "id": "d31c39dd",
   "metadata": {
    "heading_collapsed": true
   },
   "source": [
    "# Equilibrage"
   ]
  },
  {
   "cell_type": "code",
   "execution_count": 6,
   "id": "1c56bf6d",
   "metadata": {
    "hidden": true
   },
   "outputs": [],
   "source": [
    "# Undersampling"
   ]
  },
  {
   "cell_type": "code",
   "execution_count": 7,
   "id": "b9e1bf2b",
   "metadata": {
    "hidden": true
   },
   "outputs": [
    {
     "name": "stdout",
     "output_type": "stream",
     "text": [
      "Données initiales :\n",
      "1    3534105\n",
      "0    2078272\n",
      "Name: delayed, dtype: int64\n"
     ]
    }
   ],
   "source": [
    "# Créer la colonne binaire 'delayed'\n",
    "df['delayed'] = df['ARR_DELAY'].apply(lambda x: 1 if x < 0 else 0)\n",
    "\n",
    "# Afficher les données initiales\n",
    "print(\"Données initiales :\")\n",
    "print(df['delayed'].value_counts())"
   ]
  },
  {
   "cell_type": "code",
   "execution_count": 8,
   "id": "cb2d624a",
   "metadata": {
    "hidden": true
   },
   "outputs": [
    {
     "name": "stdout",
     "output_type": "stream",
     "text": [
      "\n",
      "Données après undersampling :\n",
      "0    2078272\n",
      "1    2078272\n",
      "Name: delayed, dtype: int64\n"
     ]
    }
   ],
   "source": [
    "# Séparer les classes majoritaires et minoritaires\n",
    "classe_majoritaire = df[df.delayed == 0]\n",
    "classe_minoritaire = df[df.delayed == 1]\n",
    "\n",
    "# Déterminer le nombre d'échantillons à sous-échantillonner\n",
    "n_samples = min(len(classe_majoritaire), len(classe_minoritaire))\n",
    "\n",
    "# Effectuer l'undersampling de la classe majoritaire\n",
    "classe_majoritaire_under = resample(classe_majoritaire, \n",
    "                                    replace=False,    \n",
    "                                    n_samples=n_samples,  \n",
    "                                    random_state=42)  \n",
    "\n",
    "# Effectuer l'undersampling de la classe minoritaire\n",
    "classe_minoritaire_under = resample(classe_minoritaire, \n",
    "                                    replace=False,    \n",
    "                                    n_samples=n_samples,  \n",
    "                                    random_state=42)\n",
    "\n",
    "# Combiner les classes minoritaires et majoritaires sous-échantillonnées\n",
    "df_under = pd.concat([classe_majoritaire_under, classe_minoritaire_under])\n",
    "\n",
    "# Afficher les données après undersampling\n",
    "print(\"\\nDonnées après undersampling :\")\n",
    "print(df_under['delayed'].value_counts())"
   ]
  },
  {
   "cell_type": "markdown",
   "id": "b1dd3c4a",
   "metadata": {},
   "source": [
    "# Modèles"
   ]
  },
  {
   "cell_type": "markdown",
   "id": "c2a86be5",
   "metadata": {},
   "source": [
    "## Classification"
   ]
  },
  {
   "cell_type": "markdown",
   "id": "3031ba4e",
   "metadata": {},
   "source": [
    "### DummyClassifier"
   ]
  },
  {
   "cell_type": "code",
   "execution_count": 9,
   "id": "12eddda5",
   "metadata": {
    "scrolled": true
   },
   "outputs": [
    {
     "name": "stdout",
     "output_type": "stream",
     "text": [
      "Accuracy: 0.4997\n"
     ]
    }
   ],
   "source": [
    "# Sélection des colonnes à exclure\n",
    "columns_to_exclude = ['delayed']\n",
    "\n",
    "# Séparation des features (X) et de la cible (y)\n",
    "X = df_under.drop(columns=columns_to_exclude)\n",
    "y = df_under['delayed']\n",
    "\n",
    "# Diviser les données en ensembles d'entraînement et de test\n",
    "X_train, X_test, y_train, y_test = train_test_split(X, y, test_size=0.2, random_state=42)\n",
    "\n",
    "# Sélection des caractéristiques numériques et catégorielles\n",
    "numeric_features = X.select_dtypes(include=['int64', 'float64']).columns\n",
    "categorical_features = X.select_dtypes(include=['object']).columns\n",
    "\n",
    "# Prétraitement des données\n",
    "preprocessor = ColumnTransformer(\n",
    "    transformers=[\n",
    "        ('num', StandardScaler(), numeric_features),\n",
    "        ('cat', OneHotEncoder(handle_unknown='ignore'), categorical_features)\n",
    "    ]\n",
    ")\n",
    "\n",
    "# Créer le pipeline\n",
    "pipeline = Pipeline(steps=[\n",
    "    ('preprocessor', preprocessor),\n",
    "    ('classifier', DummyClassifier(strategy=\"most_frequent\"))\n",
    "])\n",
    "\n",
    "# Entraîner le pipeline\n",
    "pipeline.fit(X_train, y_train)\n",
    "\n",
    "# Évaluer le modèle\n",
    "accuracy = pipeline.score(X_test, y_test)\n",
    "print(f\"Accuracy: {accuracy:.4f}\")"
   ]
  },
  {
   "cell_type": "markdown",
   "id": "863c36cf",
   "metadata": {},
   "source": [
    "### RandomForestClassifier"
   ]
  },
  {
   "cell_type": "code",
   "execution_count": null,
   "id": "c2255178",
   "metadata": {},
   "outputs": [],
   "source": [
    "# Sélection des colonnes à exclure\n",
    "columns_to_exclude = ['delayed', 'ARR_DELAY']\n",
    "\n",
    "# Séparation des features (X) et de la cible (y)\n",
    "X = df_under.drop(columns=columns_to_exclude)\n",
    "y = df_under['delayed']\n",
    "\n",
    "# Diviser les données en ensembles d'entraînement et de test\n",
    "X_train, X_test, y_train, y_test = train_test_split(X, y, test_size=0.2, random_state=42)\n",
    "\n",
    "# Sélection des caractéristiques numériques et catégorielles\n",
    "numeric_features = X.select_dtypes(include=['int64', 'float64']).columns\n",
    "categorical_features = X.select_dtypes(include=['object']).columns\n",
    "\n",
    "# Pipeline pour les transformations préliminaires\n",
    "numeric_transformer = Pipeline(steps=[\n",
    "    ('scaler', StandardScaler())\n",
    "])\n",
    "\n",
    "categorical_transformer = Pipeline(steps=[\n",
    "    ('onehot', OneHotEncoder(handle_unknown='ignore'))\n",
    "])\n",
    "\n",
    "preprocessor = ColumnTransformer(\n",
    "    transformers=[\n",
    "        ('num', numeric_transformer, numeric_features),\n",
    "        ('cat', categorical_transformer, categorical_features)\n",
    "    ]\n",
    ")\n",
    "\n",
    "# Pipeline final combinant le prétraitement et le modèle\n",
    "pipeline = Pipeline(steps=[\n",
    "    ('preprocessor', preprocessor),\n",
    "    ('classifier', RandomForestClassifier(n_estimators=5, random_state=42))\n",
    "])\n",
    "\n",
    "# Entraîner le pipeline\n",
    "pipeline.fit(X_train, y_train)\n",
    "\n",
    "# Évaluer le modèle\n",
    "accuracy = pipeline.score(X_test, y_test)\n",
    "print(f\"Accuracy: {accuracy:.4f}\")"
   ]
  }
 ],
 "metadata": {
  "kernelspec": {
   "display_name": "Python 3 (ipykernel)",
   "language": "python",
   "name": "python3"
  },
  "language_info": {
   "codemirror_mode": {
    "name": "ipython",
    "version": 3
   },
   "file_extension": ".py",
   "mimetype": "text/x-python",
   "name": "python",
   "nbconvert_exporter": "python",
   "pygments_lexer": "ipython3",
   "version": "3.10.6"
  },
  "toc": {
   "base_numbering": 1,
   "nav_menu": {},
   "number_sections": true,
   "sideBar": true,
   "skip_h1_title": false,
   "title_cell": "Table of Contents",
   "title_sidebar": "Contents",
   "toc_cell": false,
   "toc_position": {},
   "toc_section_display": true,
   "toc_window_display": false
  }
 },
 "nbformat": 4,
 "nbformat_minor": 5
}
